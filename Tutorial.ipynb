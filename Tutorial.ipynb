{
 "cells": [
  {
   "cell_type": "code",
   "execution_count": 1,
   "id": "5002c78d",
   "metadata": {},
   "outputs": [],
   "source": [
    "%load_ext autoreload\n",
    "%autoreload 2\n",
    "import networkx as nx\n",
    "import itertools\n",
    "import numpy as np\n",
    "import pandas as pd\n",
    "import matplotlib.pyplot as plt\n",
    "from matplotlib.pyplot import figure\n",
    "import netwulf\n",
    "import seaborn as sns\n",
    "\n",
    "import structify_net as stn\n",
    "import structify_net.viz as viz\n",
    "import structify_net.zoo as zoo\n",
    "import structify_net.scoring as scoring"
   ]
  },
  {
   "cell_type": "code",
   "execution_count": null,
   "id": "0cc29ceb-a02b-491a-b877-847724043505",
   "metadata": {},
   "outputs": [],
   "source": []
  },
  {
   "cell_type": "markdown",
   "id": "79ca5758",
   "metadata": {},
   "source": [
    "# Introduction to Structify_Net\n",
    "Structify_Net is a network generator provided as a python library.\n",
    "\n",
    "It allows to generate networks with:\n",
    "* A chosen number of nodes and edges\n",
    "* A chosen structure\n",
    "* A constrolled amount of randomness"
   ]
  },
  {
   "cell_type": "markdown",
   "id": "8935c742",
   "metadata": {},
   "source": [
    "## Step 1: Graph properties definition\n",
    "We start by defining the number of nodes and edges that we want"
   ]
  },
  {
   "cell_type": "code",
   "execution_count": 2,
   "id": "f921a55d",
   "metadata": {},
   "outputs": [],
   "source": [
    "n=128\n",
    "m=512"
   ]
  },
  {
   "cell_type": "markdown",
   "id": "66d39318",
   "metadata": {},
   "source": [
    "## Step 2: Structure definion\n",
    "We start by defining a structure, by ordering the pairs of nodes in the graph from the most likely to appear to the less likely to appear. For instance, if we assume that our network is a spatial network, and that each node has a position in an euclidean space, we can define that the pairs of nodes are ranked according to their distance in this space.\n",
    "\n",
    "Many classic structures are already implemented in Structify-Net, you can check them in section SSS. For the sake of example, here we define a very simple organisation, which actually correspond to a nested structure"
   ]
  },
  {
   "cell_type": "code",
   "execution_count": 3,
   "id": "b1e79633",
   "metadata": {},
   "outputs": [],
   "source": [
    "# This function takes as input a number of nodes, and return a\n",
    "def sort_nestedness(nodes=10):\n",
    "    nodes= list(range(nodes))\n",
    "    sorted_pairs=itertools.combinations(nodes,2)\n",
    "    #Node pairs are ranked according to the sum of the id of the nodes. \n",
    "    sorted_pairs = sorted(list(sorted_pairs),key=lambda x: x[0]+x[1])\n",
    "    return stn.Rank_model(sorted_pairs)"
   ]
  },
  {
   "cell_type": "markdown",
   "id": "bd719a9b",
   "metadata": {},
   "source": [
    "A way to visualize the resulting structure is to plot the node pairs order as a matrix"
   ]
  },
  {
   "cell_type": "code",
   "execution_count": 4,
   "id": "6de86828",
   "metadata": {},
   "outputs": [
    {
     "data": {
      "image/png": "[encoded data removed]",
      "text/plain": [
       "<Figure size 320x320 with 1 Axes>"
      ]
     },
     "metadata": {},
     "output_type": "display_data"
    }
   ],
   "source": [
    "figure(figsize=(4, 4), dpi=80)\n",
    "sort_nestedness(n).plot_matrix()"
   ]
  },
  {
   "cell_type": "markdown",
   "id": "4fb21010",
   "metadata": {},
   "source": [
    "## Step 3: Edge probability definition\n",
    "Now that we know which node pairs are the most likely to appear, we need to define a function $f$ that assign edge probabilities on each node pair, by respecting some constraints: \n",
    "* The expected number of edges must be equal to the chosen parameter `m`, i.e. $\\sum_{u,v\\in G}f(rank(u,v))=m$\n",
    "* For any two node pairs $e_1$ and $e_2$, if $rank(e_1)>rank(e_2)$, then $f(e_1)\\geq f(e_2)$\n",
    "\n",
    "Although any such function can be provided, Structify-net provides a convenient function generator, using a constraint parameter $\\epsilon \\in [0,1]$, such as 0 corresponds to a deterministic structure, the m pairs of highest rank being connected by an edge, while 1 corresponds to a fully random network."
   ]
  },
  {
   "cell_type": "code",
   "execution_count": 5,
   "id": "ee8de99a",
   "metadata": {},
   "outputs": [],
   "source": [
    "probas = sort_nestedness(n).get_generator(epsilon=0.5,m=m)"
   ]
  },
  {
   "cell_type": "markdown",
   "id": "bcca9629",
   "metadata": {},
   "source": [
    "We can plot the probability as a function of rank for various values of `epsilon` "
   ]
  },
  {
   "cell_type": "code",
   "execution_count": null,
   "id": "a3def4b8",
   "metadata": {},
   "outputs": [],
   "source": [
    "fig, ax = plt.subplots()\n",
    "for epsilon in np.arange(0,1.1,1/6):\n",
    "    probas = zoo.sort_nestedness(n).get_generator(epsilon=epsilon,m=m)\n",
    "    elt = probas.plot_proba_function(ax=ax)\n",
    "    #elt=viz.plot_proba_function(probas,ax=ax)\n",
    "    elt[-1].set_label(format(epsilon, '.2f'))\n",
    "    #fig_tem.plot(label=\"pouet\"+str(epsilon))\n",
    "ax.legend(title=\"$\\epsilon$\")\n"
   ]
  },
  {
   "cell_type": "markdown",
   "id": "3874cdbf",
   "metadata": {},
   "source": [
    "## Step 4: Generate a graph from edge probabilities\n"
   ]
  },
  {
   "cell_type": "code",
   "execution_count": null,
   "id": "bb868593",
   "metadata": {},
   "outputs": [],
   "source": [
    "generator = zoo.sort_nestedness(n).get_generator(epsilon=0.5,m=m)\n",
    "g_generated = generator.generate()"
   ]
  },
  {
   "cell_type": "code",
   "execution_count": null,
   "id": "68727675",
   "metadata": {},
   "outputs": [],
   "source": [
    "figure(figsize=(4, 4), dpi=80)\n",
    "viz.plot_adjacency_matrix(g_generated)"
   ]
  },
  {
   "cell_type": "markdown",
   "id": "b5fcee00",
   "metadata": {},
   "source": [
    "## Whole process in a function\n",
    "The whole process of graph generation from a desired number of nodes and edges can be done in a single function"
   ]
  },
  {
   "cell_type": "code",
   "execution_count": null,
   "id": "49af5e7e",
   "metadata": {},
   "outputs": [],
   "source": [
    "g_example = sort_nestedness(n).generate_graph(epsilon=0,m=500)"
   ]
  },
  {
   "cell_type": "markdown",
   "id": "fd0acd12",
   "metadata": {},
   "source": [
    "## Structure Zoo\n",
    "StructifyNet already implement various graph structure. They are exemplified below"
   ]
  },
  {
   "cell_type": "code",
   "execution_count": null,
   "id": "5320550e",
   "metadata": {},
   "outputs": [],
   "source": [
    "n=128\n",
    "m=512\n",
    "figure(figsize=(12, 12), dpi=80)\n",
    "for i,(name,rank_model) in enumerate(zoo.get_all_rank_models(n=128,m=m).items()):\n",
    "    ax = plt.subplot(4,4,i+1 )\n",
    "    \n",
    "    rank_model.plot_matrix()\n",
    "    \n",
    "    ax.set_title(name)\n"
   ]
  },
  {
   "cell_type": "markdown",
   "id": "8ca730f7-9d1d-41f1-bf4b-3be4a09b1677",
   "metadata": {},
   "source": [
    "## Graph description\n",
    "Models generate graphs having specific properties.\n",
    "Structify-Net includes various scores that can be used to characterize networks --and the model generating them."
   ]
  },
  {
   "cell_type": "markdown",
   "id": "e760caa5-9fe2-455c-8674-2567f990201e",
   "metadata": {},
   "source": [
    "### Getting Started: replicating Watts-Strogatz Small World experiment\n",
    "The famous small world experiments consisted in generating networks with a locally clustered structure (nodes are located on a ring and connected to their neighbors), and then introducing progressively random noise, until reaching a random network.\n",
    "The *small world regime* corresponds to the level of noise for which the clustering coefficient is still high -as in the locally clustered network- but the average shortest path is already low -as in a random network."
   ]
  },
  {
   "cell_type": "code",
   "execution_count": null,
   "id": "e452839a",
   "metadata": {},
   "outputs": [],
   "source": [
    "n=1000\n",
    "m=n*5\n",
    "WS_model = zoo.sort_spatial_WS(n,k=10) #k is the nodes degree\n",
    "df_scores = WS_model.scores(m=m,\n",
    "                scores={\"clustering\":scoring.average_clustering,\n",
    "                        \"short paths\":scoring.average_shortest_path_length},\n",
    "                epsilons=np.logspace(-4,0,10),latex_names=False)\n",
    "df_scores.head(3)"
   ]
  },
  {
   "cell_type": "markdown",
   "id": "058d0a22-72e8-455e-9f85-c5ddbdf770ff",
   "metadata": {},
   "source": [
    "### Plotting the results\n",
    "We can observe the small world regime by plotting the evolution of both values as a function of `epsilon`.\n",
    "Note that the `short paths` is defined in a different way than in the original article, to be more generic. It corresponds to the inverse of the average distance, normalized such as `short paths`=1 for a network with a complete star, such as each node is at distance 2 from all other node. "
   ]
  },
  {
   "cell_type": "code",
   "execution_count": null,
   "id": "aba4f3db-13b4-4f62-aea1-9dff853dd4f0",
   "metadata": {},
   "outputs": [],
   "source": [
    "df_scores.plot(x=\"epsilon\",logx=True,figsize=(8, 3))"
   ]
  },
  {
   "cell_type": "markdown",
   "id": "6ed38378-2b00-4a51-813c-01627617fd14",
   "metadata": {},
   "source": [
    "### Small World regime for other structures\n",
    "We can replicate this experiment for all structures in our structure zoo"
   ]
  },
  {
   "cell_type": "code",
   "execution_count": null,
   "id": "5f8d24e0-63ed-4f50-adf1-2288fa73185f",
   "metadata": {},
   "outputs": [],
   "source": [
    "df_scores = scoring.scores_for_rank_models(zoo.get_all_rank_models(n,m),m=m,\n",
    "                       scores={\"clustering\":scoring.average_clustering,\n",
    "                               \"short paths\":scoring.average_shortest_path_length},\n",
    "                       epsilons=np.logspace(-4,0,10),latex_names=False)                  "
   ]
  },
  {
   "cell_type": "code",
   "execution_count": null,
   "id": "17a4926b-c7ab-4e89-8767-051efb62f168",
   "metadata": {},
   "outputs": [],
   "source": [
    "df_scores.head()"
   ]
  },
  {
   "cell_type": "code",
   "execution_count": null,
   "id": "1fda13aa-058b-4348-bcc7-1d0596a5a1b2",
   "metadata": {},
   "outputs": [],
   "source": [
    "g = df_scores.groupby('name')\n",
    "\n",
    "fig, axes = plt.subplots(4,4, sharex=True)\n",
    "all_axes = axes.flatten()\n",
    "for i, (name, d) in enumerate(g):\n",
    "    ax = d.plot.line(x='epsilon', ax=all_axes[i], title=name,logx=True,figsize=(10, 8))\n",
    "    ax.set_ylim(-0.05,1.05)\n",
    "    ax.legend().remove()\n"
   ]
  },
  {
   "cell_type": "markdown",
   "id": "d9bb32c3-f631-4a28-984f-29dfda75d08c",
   "metadata": {},
   "source": [
    "## Models Profiling\n",
    "Average distance and Average clustering are only two examples of graph structure descriptors. Structify-Net contains several other descriptors. We can use them to show more details of the evolution from the regular grid to the random network"
   ]
  },
  {
   "cell_type": "code",
   "execution_count": null,
   "id": "fca67855-9d99-4865-bab5-858fa33c90b4",
   "metadata": {},
   "outputs": [],
   "source": [
    "detail_evolution = zoo.sort_spatial_WS(500).scores(m=500*5,epsilons=np.logspace(-4,0,6),scores=scoring.get_default_scores(),latex_names=True)\n",
    "#detail_evolution = toolBox.scores_for_rank_functions({\"spatialWS\":zoo.sort_spatial_WS},500,500*5,epsilons=np.logspace(-4,0,6),scores=toolBox.get_all_scores())"
   ]
  },
  {
   "cell_type": "code",
   "execution_count": null,
   "id": "f78828b2-a30c-43ed-8a3f-a453957c4505",
   "metadata": {},
   "outputs": [],
   "source": [
    "detail_evolution"
   ]
  },
  {
   "cell_type": "code",
   "execution_count": null,
   "id": "17e301bc-1b32-4e1f-8110-0009e75b5380",
   "metadata": {},
   "outputs": [],
   "source": [
    "viz.spider_plot(detail_evolution,reference=0)"
   ]
  },
  {
   "cell_type": "markdown",
   "id": "83d5349b-cf24-4b2b-b031-4d1bbf75fa8b",
   "metadata": {},
   "source": [
    "### We can also compare properties of a set of models\n",
    "In this case, we plot all models in Structify's Zoo, with `epsilon`=0"
   ]
  },
  {
   "cell_type": "code",
   "execution_count": null,
   "id": "a76ddc1e-b952-4a95-a621-8e6a673d9566",
   "metadata": {},
   "outputs": [],
   "source": [
    "n,m=128,128*8\n",
    "detail_evolution = scoring.scores_for_rank_models(zoo.get_all_rank_models(n,m),m,epsilons=0,latex_names=True)"
   ]
  },
  {
   "cell_type": "code",
   "execution_count": null,
   "id": "263251d8",
   "metadata": {},
   "outputs": [],
   "source": [
    "viz.spider_plot(detail_evolution,reference=0)"
   ]
  },
  {
   "cell_type": "markdown",
   "id": "1e371be8-88e1-4e6f-9c51-e4d7760d2f4a",
   "metadata": {},
   "source": [
    "## Comparing with an observed network\n",
    "If we are interested in a particular network, we can compare the structure of that network with the strucuture of some candidate models in our strucuture zoo.\n",
    "For instance, let us check the structure of the Zackary karate club graph"
   ]
  },
  {
   "cell_type": "code",
   "execution_count": null,
   "id": "4d8dd89e-b0fc-45bc-af43-40a9aeb615a7",
   "metadata": {},
   "outputs": [],
   "source": [
    "karate_scores = scoring.scores_for_graphs({\"karate club\":nx.karate_club_graph()},latex_names=True)\n",
    "viz.spider_plot(karate_scores)"
   ]
  },
  {
   "cell_type": "markdown",
   "id": "64d813d8-0fef-41e1-b079-479fd12d4ec6",
   "metadata": {},
   "source": [
    "### Generate graphs of the same size\n",
    "We generate graphs using the structures in the zoo, varying the epsilon parameter, but keeping the same number of nodes and (expected) edges than in the target graph. To get more reliable results, we take the average values over multiple runs.\n",
    "\n",
    "Since the karate club graph is often interpreted in term of communities, we include two additional versions of the structures, that can be parameterized with the number of blocks."
   ]
  },
  {
   "cell_type": "code",
   "execution_count": null,
   "id": "f56d9dc5-6c7e-429c-916b-5e1cb66182c7",
   "metadata": {},
   "outputs": [],
   "source": [
    "n=nx.karate_club_graph().number_of_nodes()\n",
    "m=nx.karate_club_graph().number_of_edges()\n",
    "models_to_compare=zoo.get_all_rank_models(n,m)\n",
    "\n",
    "louvain_communities=nx.community.louvain_communities(nx.karate_club_graph())\n",
    "models_to_compare[\"louvain\"]=zoo.sort_blocks_assortative(n,blocks=louvain_communities)\n",
    "models_to_compare[\"com=2\"]=zoo.sort_blocks_assortative(n,blocks=2)\n",
    "epsilons=np.logspace(-3,0,10)\n"
   ]
  },
  {
   "cell_type": "code",
   "execution_count": null,
   "id": "a7e5e615-815e-4b5f-b96b-70c139ee7e86",
   "metadata": {},
   "outputs": [],
   "source": [
    "compare_scores = scoring.scores_for_rank_models(models_to_compare,m,epsilons=epsilons,runs=20)"
   ]
  },
  {
   "cell_type": "markdown",
   "id": "9e891382-0d94-4a08-8a9f-9eec809316ca",
   "metadata": {},
   "source": [
    "#### Comparing\n",
    "We compute the $L_1$ distance (sum of differences in each score) between the observed graph and the models.\n",
    "We can explore how the models' similarity evolve as a function of the random parameter"
   ]
  },
  {
   "cell_type": "code",
   "execution_count": null,
   "id": "30d81a06-0ab1-40ec-84d5-084fb8ea750e",
   "metadata": {},
   "outputs": [],
   "source": [
    "compare = scoring.compare_graphs(karate_scores,compare_scores,best_by_name=False,score_difference=True)"
   ]
  },
  {
   "cell_type": "code",
   "execution_count": null,
   "id": "51e96723-8c7f-4a5d-aabd-7fb624b8f46f",
   "metadata": {},
   "outputs": [],
   "source": [
    "ax = sns.lineplot(data=compare,x=\"$\\epsilon$\",y=\"distance\",hue=\"name\",style=\"name\",palette=sns.color_palette(\"husl\", len(models_to_compare)))\n",
    "sns.move_legend(ax, \"upper left\", bbox_to_anchor=(1, 1))\n",
    "plt.xscale('log')"
   ]
  },
  {
   "cell_type": "markdown",
   "id": "ea002492-cf0f-45f1-b1ec-bb37e90e4f04",
   "metadata": {},
   "source": [
    "## Details of models matching\n",
    "We can study in more details what properties does each model captures or not.\n",
    "We select for each model the value of epsilon giving the best match. Models are also sorted according the distance, so that the first models returned are the most similar, and then we plot the properties of those selected models, with the properties of our graph for comparison"
   ]
  },
  {
   "cell_type": "code",
   "execution_count": null,
   "id": "56c9b36e-7999-47f0-a237-60a48a76ad60",
   "metadata": {},
   "outputs": [],
   "source": [
    "compare = scoring.compare_graphs(karate_scores,compare_scores,best_by_name=True,score_difference=False)"
   ]
  },
  {
   "cell_type": "code",
   "execution_count": null,
   "id": "78456451-cef2-4f50-87db-2f0eb68d7e31",
   "metadata": {},
   "outputs": [],
   "source": [
    "compare.head()"
   ]
  },
  {
   "cell_type": "code",
   "execution_count": null,
   "id": "6c147343-10f2-4fdb-abe4-a91c26b8e62a",
   "metadata": {},
   "outputs": [],
   "source": [
    "compare_plot=compare.drop(columns=[\"distance\"])\n",
    "compare_plot.loc[-1, :] = karate_scores.iloc[0]\n",
    "compare_plot.sort_index(inplace=True) "
   ]
  },
  {
   "cell_type": "code",
   "execution_count": null,
   "id": "1c7b734b",
   "metadata": {},
   "outputs": [],
   "source": [
    "viz.spider_plot(compare_plot,reference=0)"
   ]
  },
  {
   "cell_type": "code",
   "execution_count": null,
   "id": "0b8ab27b-e3e8-4ba1-a7a7-9cc35e262bee",
   "metadata": {},
   "outputs": [],
   "source": []
  },
  {
   "cell_type": "code",
   "execution_count": null,
   "id": "bf4ffa74",
   "metadata": {},
   "outputs": [],
   "source": []
  },
  {
   "cell_type": "code",
   "execution_count": null,
   "id": "b837da65",
   "metadata": {},
   "outputs": [],
   "source": []
  },
  {
   "cell_type": "code",
   "execution_count": null,
   "id": "0a25bd0b-a204-4da7-98d8-c90b3d929c64",
   "metadata": {},
   "outputs": [],
   "source": []
  },
  {
   "cell_type": "code",
   "execution_count": null,
   "id": "1d2b2433-ee9f-4ce6-95ea-5c636f699fb2",
   "metadata": {},
   "outputs": [],
   "source": []
  },
  {
   "cell_type": "code",
   "execution_count": null,
   "id": "23f2408b",
   "metadata": {},
   "outputs": [],
   "source": []
  },
  {
   "cell_type": "code",
   "execution_count": null,
   "id": "0922bd3f-4ece-4cec-bf08-e41097b953d1",
   "metadata": {},
   "outputs": [],
   "source": []
  },
  {
   "cell_type": "code",
   "execution_count": null,
   "id": "fb7c35a2-7250-4cda-a6c7-181377587b8e",
   "metadata": {},
   "outputs": [],
   "source": []
  },
  {
   "cell_type": "code",
   "execution_count": null,
   "id": "e70e7c0c-4a96-43e5-a2b4-de88b408fa03",
   "metadata": {},
   "outputs": [],
   "source": []
  }
 ],
 "metadata": {
  "kernelspec": {
   "display_name": "brew_kern",
   "language": "python",
   "name": "brew_kern"
  },
  "language_info": {
   "codemirror_mode": {
    "name": "ipython",
    "version": 3
   },
   "file_extension": ".py",
   "mimetype": "text/x-python",
   "name": "python",
   "nbconvert_exporter": "python",
   "pygments_lexer": "ipython3",
   "version": "3.11.2"
  }
 },
 "nbformat": 4,
 "nbformat_minor": 5
}
